{
 "cells": [
  {
   "cell_type": "markdown",
   "id": "e995e8ed",
   "metadata": {},
   "source": [
    "Web scraping for job  information"
   ]
  },
  {
   "cell_type": "code",
   "execution_count": 4,
   "id": "f0db61cd",
   "metadata": {},
   "outputs": [],
   "source": [
    "from glob import glob\n",
    "import string\n",
    "import nltk\n",
    "import matplotlib.pyplot as plt\n",
    "from nltk.corpus import stopwords\n",
    "from urllib.request import urlopen\n",
    "import ssl\n",
    "import certifi\n",
    "import requests\n",
    "import csv\n",
    "from bs4 import BeautifulSoup as bs\n",
    "import lxml\n",
    "import lxml.html as html"
   ]
  },
  {
   "cell_type": "markdown",
   "id": "34f0ccc3",
   "metadata": {},
   "source": [
    "No WebScraping for now"
   ]
  }
 ],
 "metadata": {
  "kernelspec": {
   "display_name": "Python 3 (ipykernel)",
   "language": "python",
   "name": "python3"
  },
  "language_info": {
   "codemirror_mode": {
    "name": "ipython",
    "version": 3
   },
   "file_extension": ".py",
   "mimetype": "text/x-python",
   "name": "python",
   "nbconvert_exporter": "python",
   "pygments_lexer": "ipython3",
   "version": "3.11.8"
  }
 },
 "nbformat": 4,
 "nbformat_minor": 5
}
